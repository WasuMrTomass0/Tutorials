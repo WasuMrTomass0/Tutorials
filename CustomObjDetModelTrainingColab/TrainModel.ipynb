{
  "nbformat": 4,
  "nbformat_minor": 0,
  "metadata": {
    "colab": {
      "name": "TrainModel.ipynb",
      "provenance": [],
      "collapsed_sections": [],
      "toc_visible": true
    },
    "kernelspec": {
      "name": "python3",
      "display_name": "Python 3"
    }
  },
  "cells": [
    {
      "cell_type": "markdown",
      "metadata": {
        "id": "ji9059h5g2W2"
      },
      "source": [
        "---\n",
        "# Model Training Notebook"
      ]
    },
    {
      "cell_type": "markdown",
      "metadata": {
        "id": "h1JOHT-6g_C2"
      },
      "source": [
        "- Tensorflow Object Detection Zoo -> [GitHub](https://github.com/tensorflow/models/blob/master/research/object_detection/g3doc/tf1_detection_zoo.md)\n",
        "\n",
        "- Huge thanks to **Gilbert Tanner** -> [YouTube](https://www.youtube.com/watch?v=HjiBbChYRDw)\n",
        "\n",
        "- Labelling images -> [GitHub](https://github.com/tzutalin/labelImg)"
      ]
    },
    {
      "cell_type": "markdown",
      "metadata": {
        "id": "Ix19__YJogx-"
      },
      "source": [
        "## Setup:"
      ]
    },
    {
      "cell_type": "code",
      "metadata": {
        "id": "zYhyuG0Ily44"
      },
      "source": [
        "# Install all modules:\n",
        "!pip install --upgrade pip\n",
        "!pip install --upgrade utils\n",
        "# !pip install tensorflow\n",
        "!pip install tensorflow==1.15\n",
        "!pip install object_detection\n",
        "!pip install --upgrade protobuf "
      ],
      "execution_count": null,
      "outputs": []
    },
    {
      "cell_type": "code",
      "metadata": {
        "colab": {
          "base_uri": "https://localhost:8080/"
        },
        "id": "4jSb5m_0Auhm",
        "outputId": "9950621c-f254-406b-d7a0-9b3189565730"
      },
      "source": [
        "import tensorflow\n",
        "import os\n",
        "print(tensorflow.__version__)"
      ],
      "execution_count": 4,
      "outputs": [
        {
          "output_type": "stream",
          "text": [
            "2.3.0\n"
          ],
          "name": "stdout"
        }
      ]
    },
    {
      "cell_type": "code",
      "metadata": {
        "id": "KjiDQe9kg0LC"
      },
      "source": [
        "# Download models-master from GitHub:\n",
        "% cd /content/\n",
        "if not os.path.isdir('models-master'):\n",
        "  !wget https://github.com/tensorflow/models/archive/master.zip\n",
        "  !unzip /content/master.zip\n",
        "  %rm -rf master.zip\n",
        "  pass  # models-master\n",
        "\n",
        "# Download other needed files:\n",
        "if not os.path.isdir('models-master/research/object_detection/Templates'):\n",
        "  !wget https://github.com/WasuMrTomass0/Tutorials/archive/master.zip\n",
        "  !unzip /content/master.zip\n",
        "  !cp -a /content/Tutorials-master/CustomObjDetModelTrainingColab/pyScripts/* /content/models-master/research/object_detection/\n",
        "  %rm -rf master.zip\n",
        "  %rm -rf /content/Tutorials-master\n",
        "  pass"
      ],
      "execution_count": null,
      "outputs": []
    },
    {
      "cell_type": "code",
      "metadata": {
        "id": "D9RCjBdGlfg7",
        "colab": {
          "base_uri": "https://localhost:8080/"
        },
        "outputId": "beee68d6-a284-45ae-c50b-c985a069b2a2"
      },
      "source": [
        "# Connect Your Google Drive:\n",
        "from google.colab import drive\n",
        "drive.mount('/content/drive')"
      ],
      "execution_count": null,
      "outputs": [
        {
          "output_type": "stream",
          "text": [
            "Mounted at /content/drive\n"
          ],
          "name": "stdout"
        }
      ]
    },
    {
      "cell_type": "markdown",
      "metadata": {
        "id": "QbAWudbsnf-A"
      },
      "source": [
        "Directories setup:\n",
        "- images/test -  should contain ~30% of all images\n",
        "- images/train -  should contain ~70% of all images"
      ]
    },
    {
      "cell_type": "code",
      "metadata": {
        "colab": {
          "base_uri": "https://localhost:8080/"
        },
        "id": "MsVHaMUMnUOL",
        "outputId": "07f7d7e0-6e0b-4b44-8b69-68781a7e9d11"
      },
      "source": [
        "%cd /content/models-master/research/object_detection\n",
        "%mkdir images\n",
        "%mkdir images/test\n",
        "%mkdir images/train\n",
        "\n",
        "%mkdir training"
      ],
      "execution_count": 7,
      "outputs": [
        {
          "output_type": "stream",
          "text": [
            "/content/models-master/research/object_detection\n"
          ],
          "name": "stdout"
        }
      ]
    },
    {
      "cell_type": "code",
      "metadata": {
        "id": "8ObOuRbtnlgl",
        "colab": {
          "base_uri": "https://localhost:8080/"
        },
        "outputId": "edf824a8-6615-420c-cd36-c6ef322e187e"
      },
      "source": [
        "# Copy images from google drive:\n",
        "# Must contain 'train' and 'test' subdirectories with images and labels.\n",
        "GOOGLE_DRIVE_IMAGES_PATH = '/content/drive/MyDrive/ML_CSGO/images_v2'\n",
        "\n",
        "!cp -a {GOOGLE_DRIVE_IMAGES_PATH}/test/* /content/models-master/research/object_detection/images/test/\n",
        "!cp -a {GOOGLE_DRIVE_IMAGES_PATH}/train/* /content/models-master/research/object_detection/images/train/"
      ],
      "execution_count": 8,
      "outputs": [
        {
          "output_type": "stream",
          "text": [
            "cp: cannot stat '/content/drive/MyDrive/ML_CSGO/images_v2/test/*': No such file or directory\n",
            "cp: cannot stat '/content/drive/MyDrive/ML_CSGO/images_v2/train/*': No such file or directory\n"
          ],
          "name": "stdout"
        }
      ]
    },
    {
      "cell_type": "code",
      "metadata": {
        "id": "5uheBZCgq9-Y"
      },
      "source": [
        "# Copy 'classes.txt'\n",
        "GOOGLE_DRIVE_CLASSES_PATH = '/content/drive/MyDrive/ML_CSGO'\n",
        "!cp -a {GOOGLE_DRIVE_CLASSES_PATH}/classes.txt /content/models-master/research/object_detection/"
      ],
      "execution_count": null,
      "outputs": []
    },
    {
      "cell_type": "code",
      "metadata": {
        "id": "ty2axo9xrBEu"
      },
      "source": [
        "# or move it manually to: /content and then copy it to /content/models-master/research/object_detection by running this cell\n",
        "!cp -a /content/classes.txt /content/models-master/research/object_detection/"
      ],
      "execution_count": null,
      "outputs": []
    },
    {
      "cell_type": "markdown",
      "metadata": {
        "id": "fKCCpSUL5Z_W"
      },
      "source": [
        "## Generators:"
      ]
    },
    {
      "cell_type": "code",
      "metadata": {
        "id": "A5us988X5bRH",
        "colab": {
          "base_uri": "https://localhost:8080/"
        },
        "outputId": "5c5170ff-3107-421b-c4ba-e83f1aa89333"
      },
      "source": [
        "# Generate files from classes.txt\n",
        "%cd /content/models-master/research/object_detection\n",
        "!python GenerateClassesInfo.py\n",
        "\n",
        "!cp -a labelmap.pbtxt training/\n",
        "!cp -a label_map.pbtxt training/"
      ],
      "execution_count": 9,
      "outputs": [
        {
          "output_type": "stream",
          "text": [
            "/content/models-master/research/object_detection\n",
            "Traceback (most recent call last):\n",
            "  File \"GenerateClassesInfo.py\", line 11, in <module>\n",
            "    raise Exception('No file \"classes.txt\"')\n",
            "Exception: No file \"classes.txt\"\n",
            "cp: cannot stat 'labelmap.pbtxt': No such file or directory\n",
            "cp: cannot stat 'label_map.pbtxt': No such file or directory\n"
          ],
          "name": "stdout"
        }
      ]
    },
    {
      "cell_type": "code",
      "metadata": {
        "id": "beRM7RSa79h7"
      },
      "source": [
        "# Convert xml files to csv\n",
        "!python xml_to_csv.py"
      ],
      "execution_count": null,
      "outputs": []
    },
    {
      "cell_type": "code",
      "metadata": {
        "id": "0Kp5m0Un9bbS"
      },
      "source": [
        "# Generate test and train record\n",
        "!python generate_tfrecord.py --csv_input=images/test_labels.csv --output_path=test.record --image_dir=images/test\n",
        "!python generate_tfrecord.py --csv_input=images/train_labels.csv --output_path=train.record --image_dir=images/train"
      ],
      "execution_count": null,
      "outputs": []
    },
    {
      "cell_type": "markdown",
      "metadata": {
        "id": "NdfPyq3cCXUi"
      },
      "source": [
        "## Configure model, paths and number of classes:\n"
      ]
    },
    {
      "cell_type": "markdown",
      "metadata": {
        "id": "I627mdd6Fx2T"
      },
      "source": [
        "If you want to use model from zoo change link below."
      ]
    },
    {
      "cell_type": "code",
      "metadata": {
        "id": "PgPmhqHMFR8Q"
      },
      "source": [
        "LINK_TO_MODEL_FROM_ZOO = 'http://download.tensorflow.org/models/object_detection/faster_rcnn_inception_v2_coco_2018_01_28.tar.gz'\n",
        "\n",
        "# Get names from link:\n",
        "MODEL_NAME_TAR_GZ = LINK_TO_MODEL_FROM_ZOO.split('/')[-1]\n",
        "MODEL_NAME = MODEL_NAME_TAR_GZ.split('.')[0]"
      ],
      "execution_count": null,
      "outputs": []
    },
    {
      "cell_type": "code",
      "metadata": {
        "id": "FOM8KUjEE4bp"
      },
      "source": [
        "# Download model from zoo:\n",
        "%cd /content/models-master/research/object_detection\n",
        "!wget {LINK_TO_MODEL_FROM_ZOO}\n",
        "!tar -xzvf {MODEL_NAME_TAR_GZ}\n",
        "%rm -rf {MODEL_NAME_TAR_GZ}"
      ],
      "execution_count": null,
      "outputs": []
    },
    {
      "cell_type": "code",
      "metadata": {
        "id": "4n4qwa_2-sQX"
      },
      "source": [
        "# Copy config file from /samples to /training\n",
        "!cp -a /content/models-master/research/object_detection/samples/configs/faster_rcnn_inception_v2_pets.config /content/models-master/research/object_detection/training/\n",
        "\n",
        "# Tell me what is the name of config u have choosen:\n",
        "# for example: 'faster_rcnn_inception_v2_pets'\n",
        "MODEL_CONFIG_FILE_NAME = 'faster_rcnn_inception_v2_pets' + '.config'"
      ],
      "execution_count": null,
      "outputs": []
    },
    {
      "cell_type": "markdown",
      "metadata": {
        "id": "3zBQAJU7Dovd"
      },
      "source": [
        "Number of classes:\n",
        "```\n",
        "model {\n",
        "  faster_rcnn {\n",
        "    num_classes: 37   <----  Change this number!   \n",
        "  ...\n",
        "  }\n",
        "}\n",
        "```"
      ]
    },
    {
      "cell_type": "code",
      "metadata": {
        "colab": {
          "base_uri": "https://localhost:8080/"
        },
        "id": "i7Is1BigDsh-",
        "outputId": "996e2fc1-33b5-4be2-f658-4a92ca48a484"
      },
      "source": [
        "# Follow instructions which are displayed after running this cell\n",
        "print('Open config that was copied from /samples')\n",
        "\n",
        "print('1', '- ' * 50)\n",
        "\n",
        "print('Find line: (Around 106)\\n\\t\"fine_tune_checkpoint: \"PATH_TO_BE_CONFIGURED/model.ckpt\"')\n",
        "print('Swap \"PATH_TO_BE_CONFIGURED/model.ckpt\" to:\\n\\t \"{}\"'.format('/content/models-master/research/object_detection/' + MODEL_NAME + '/model.ckpt'))\n",
        "\n",
        "print('2', '- ' * 50)\n",
        "\n",
        "print('Find line: (Around 123 - under \"train_input_reader\")\\n\\t\"tf_record_input_reader {\\n\\t\\tinput_path: \"PATH_TO_BE_CONFIGURED/pet_faces_train.record-?????-of-00010\"')\n",
        "print('Swap \"PATH_TO_BE_CONFIGURED/pet_faces_train.record-?????-of-00010\" to:\\n\\t \"{}\"'.format('/content/models-master/research/object_detection/train.record'))\n",
        "\n",
        "print('3', '- ' * 50)\n",
        "\n",
        "print('Find line: (Around 125 - under \"train_input_reader\")\\n\\t\"label_map_path: \"PATH_TO_BE_CONFIGURED/pet_label_map.pbtxt\"')\n",
        "print('Swap \"PATH_TO_BE_CONFIGURED/pet_label_map.pbtxt\" to:\\n\\t \"{}\"'.format('/content/models-master/research/object_detection/training/labelmap.pbtxt'))\n",
        "\n",
        "print('4', '- ' * 50)\n",
        "\n",
        "print('Find line: (Around 135 - under \"train_input_reader\")\\n\\t\"tf_record_input_reader {\\n\\t\\tinput_path: \"PATH_TO_BE_CONFIGURED/pet_faces_val.record-?????-of-00010\"')\n",
        "print('Swap \"PATH_TO_BE_CONFIGURED/pet_faces_train.record-?????-of-00010\" to:\\n\\t \"{}\"'.format('/content/models-master/research/object_detection/test.record'))\n",
        "\n",
        "print('5', '- ' * 50)\n",
        "\n",
        "print('Find line: (Around 137 - under \"train_input_reader\")\\n\\t\"label_map_path: \"PATH_TO_BE_CONFIGURED/pet_label_map.pbtxt\"')\n",
        "print('Swap \"PATH_TO_BE_CONFIGURED/pet_label_map.pbtxt\" to:\\n\\t \"{}\"'.format('/content/models-master/research/object_detection/training/labelmap.pbtxt'))\n",
        "\n",
        "# TODO Add automatic replacement"
      ],
      "execution_count": null,
      "outputs": [
        {
          "output_type": "stream",
          "text": [
            "Open config that was copied from /samples\n",
            "1 - - - - - - - - - - - - - - - - - - - - - - - - - - - - - - - - - - - - - - - - - - - - - - - - - - \n",
            "Find line: (Around 106)\n",
            "\t\"fine_tune_checkpoint: \"PATH_TO_BE_CONFIGURED/model.ckpt\"\n",
            "Swap \"PATH_TO_BE_CONFIGURED/model.ckpt\" to:\n",
            "\t \"/content/models-master/research/object_detection/faster_rcnn_inception_v2_coco_2018_01_28/model.ckpt\"\n",
            "2 - - - - - - - - - - - - - - - - - - - - - - - - - - - - - - - - - - - - - - - - - - - - - - - - - - \n",
            "Find line: (Around 123 - under \"train_input_reader\")\n",
            "\t\"tf_record_input_reader {\n",
            "\t\tinput_path: \"PATH_TO_BE_CONFIGURED/pet_faces_train.record-?????-of-00010\"\n",
            "Swap \"PATH_TO_BE_CONFIGURED/pet_faces_train.record-?????-of-00010\" to:\n",
            "\t \"/content/models-master/research/object_detection/train.record\"\n",
            "3 - - - - - - - - - - - - - - - - - - - - - - - - - - - - - - - - - - - - - - - - - - - - - - - - - - \n",
            "Find line: (Around 125 - under \"train_input_reader\")\n",
            "\t\"label_map_path: \"PATH_TO_BE_CONFIGURED/pet_label_map.pbtxt\"\n",
            "Swap \"PATH_TO_BE_CONFIGURED/pet_label_map.pbtxt\" to:\n",
            "\t \"/content/models-master/research/object_detection/training/labelmap.pbtxt\"\n",
            "4 - - - - - - - - - - - - - - - - - - - - - - - - - - - - - - - - - - - - - - - - - - - - - - - - - - \n",
            "Find line: (Around 135 - under \"train_input_reader\")\n",
            "\t\"tf_record_input_reader {\n",
            "\t\tinput_path: \"PATH_TO_BE_CONFIGURED/pet_faces_val.record-?????-of-00010\"\n",
            "Swap \"PATH_TO_BE_CONFIGURED/pet_faces_train.record-?????-of-00010\" to:\n",
            "\t \"/content/models-master/research/object_detection/test.record\"\n",
            "5 - - - - - - - - - - - - - - - - - - - - - - - - - - - - - - - - - - - - - - - - - - - - - - - - - - \n",
            "Find line: (Around 137 - under \"train_input_reader\")\n",
            "\t\"label_map_path: \"PATH_TO_BE_CONFIGURED/pet_label_map.pbtxt\"\n",
            "Swap \"PATH_TO_BE_CONFIGURED/pet_label_map.pbtxt\" to:\n",
            "\t \"/content/models-master/research/object_detection/training/labelmap.pbtxt\"\n"
          ],
          "name": "stdout"
        }
      ]
    },
    {
      "cell_type": "markdown",
      "metadata": {
        "id": "dFbNT13HLmBA"
      },
      "source": [
        "# Training:"
      ]
    },
    {
      "cell_type": "code",
      "metadata": {
        "colab": {
          "base_uri": "https://localhost:8080/"
        },
        "id": "M-0f-VOYFBxf",
        "outputId": "1e23913c-266f-4ab1-ea9a-1cea9b658344"
      },
      "source": [
        "import time, psutil\n",
        "Start = time.time()- psutil.boot_time()\n",
        "Left= 12*3600 - Start \n",
        "print('Time remaining for this session is: ', Left/3600)"
      ],
      "execution_count": null,
      "outputs": [
        {
          "output_type": "stream",
          "text": [
            "Time remaining for this session is:  11.84012216720316\n"
          ],
          "name": "stdout"
        }
      ]
    },
    {
      "cell_type": "code",
      "metadata": {
        "id": "Cg1sstTZEvl2"
      },
      "source": [
        "%cd /content/models-master/research/object_detection\n",
        "!apt-get install protobuf-compiler python-pil python-lxml python-tk\n",
        "!pip install Cython\n",
        "%cd /content/models-master/research\n",
        "!protoc object_detection/protos/*.proto --python_out=.\n",
        "\n",
        "import os\n",
        "os.environ['PYTHONPATH'] += ':/content/models-master/research/:/content/models-master/research/slim'\n",
        "\n",
        "!python setup.py build\n",
        "!python setup.py install"
      ],
      "execution_count": null,
      "outputs": []
    },
    {
      "cell_type": "code",
      "metadata": {
        "id": "jL7fSK6NFGsY"
      },
      "source": [
        "!pip install tf_slim\n",
        "%cd  /content/models-master/research/object_detection/\n",
        "os.environ['PYTHONPATH'] += ':/content/models-master/research/:/content/models-master/research/slim'"
      ],
      "execution_count": null,
      "outputs": []
    },
    {
      "cell_type": "code",
      "metadata": {
        "id": "cDa6JF55LoYL"
      },
      "source": [
        "%cd /content/models-master/research/object_detection\n",
        "!python train.py --logtostderr --train_dir=training/ --pipeline_config_path=training/{MODEL_CONFIG_FILE_NAME}"
      ],
      "execution_count": null,
      "outputs": []
    },
    {
      "cell_type": "markdown",
      "metadata": {
        "id": "r_NM1o45OTFY"
      },
      "source": [
        "# Export trained model:"
      ]
    },
    {
      "cell_type": "code",
      "metadata": {
        "id": "Uk_ihFCuOVhU"
      },
      "source": [
        "# Input trained model counter\n",
        "counter = XXX\n",
        "\n",
        "# Exporting trained model  # Sprawdz: https://github.com/tensorflow/models/blob/master/research/object_detection/export_inference_graph.py\n",
        "python export_inference_graph.py --input_type image_tensor --pipeline_config_path training/{MODEL_CONFIG_FILE_NAME} --trained_checpoint_prefix training/model.ckpt-{counter} --ouput_directory esport_inference_graph\n",
        "\n",
        "# Exported to inference_graph\n"
      ],
      "execution_count": null,
      "outputs": []
    },
    {
      "cell_type": "code",
      "metadata": {
        "id": "xZJocjn_QZ_B"
      },
      "source": [
        "# Save to Google Drive\n",
        "PATH_TO_SAVE_DIR = '' + '/'\n",
        "\n",
        "!cp -a <?> {PATH_TO_SAVE_DIR}"
      ],
      "execution_count": null,
      "outputs": []
    }
  ]
}